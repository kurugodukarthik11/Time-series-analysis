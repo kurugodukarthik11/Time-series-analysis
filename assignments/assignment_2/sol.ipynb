{
 "cells": [
  {
   "cell_type": "code",
   "execution_count": 1,
   "id": "initial_id",
   "metadata": {
    "collapsed": true,
    "ExecuteTime": {
     "end_time": "2023-09-30T06:59:39.144318100Z",
     "start_time": "2023-09-30T06:59:38.280420900Z"
    }
   },
   "outputs": [],
   "source": [
    "import numpy as np\n",
    "import pandas as pd\n",
    "import matplotlib.pyplot as plt\n",
    "import plotly.express as pt\n",
    "from dash import Dash, dcc, html, Input, Output"
   ]
  },
  {
   "cell_type": "code",
   "execution_count": 2,
   "outputs": [],
   "source": [
    "df = pd.read_csv('all_fuels_data.csv')\n",
    "df['date'] = pd.to_datetime(df['date'])"
   ],
   "metadata": {
    "collapsed": false,
    "ExecuteTime": {
     "end_time": "2023-09-30T06:59:39.181328100Z",
     "start_time": "2023-09-30T06:59:39.147351800Z"
    }
   },
   "id": "48b0ba408965fc25"
  },
  {
   "cell_type": "code",
   "execution_count": 3,
   "outputs": [
    {
     "data": {
      "text/plain": "      ticker        commodity       date       open       high        low  \\\n0       CL=F        Crude Oil 2000-08-23  31.950001  32.799999  31.950001   \n1       CL=F        Crude Oil 2000-08-24  31.900000  32.240002  31.400000   \n2       CL=F        Crude Oil 2000-08-25  31.700001  32.099998  31.320000   \n3       CL=F        Crude Oil 2000-08-28  32.040001  32.919998  31.860001   \n4       CL=F        Crude Oil 2000-08-29  32.820000  33.029999  32.560001   \n...      ...              ...        ...        ...        ...        ...   \n27150   BZ=F  Brent Crude Oil 2023-09-25  93.750000  94.250000  92.540001   \n27151   BZ=F  Brent Crude Oil 2023-09-26  93.260002  94.209999  91.800003   \n27152   BZ=F  Brent Crude Oil 2023-09-27  94.160004  97.040001  94.150002   \n27153   BZ=F  Brent Crude Oil 2023-09-28  96.620003  97.629997  94.750000   \n27154   BZ=F  Brent Crude Oil 2023-09-29  95.099998  96.239998  94.959999   \n\n           close  volume  \n0      32.049999   79385  \n1      31.629999   72978  \n2      32.049999   44601  \n3      32.869999   46770  \n4      32.720001   49131  \n...          ...     ...  \n27150  93.290001   18626  \n27151  93.959999   18509  \n27152  96.550003   23665  \n27153  95.379997    9192  \n27154  95.309998    9192  \n\n[27155 rows x 8 columns]",
      "text/html": "<div>\n<style scoped>\n    .dataframe tbody tr th:only-of-type {\n        vertical-align: middle;\n    }\n\n    .dataframe tbody tr th {\n        vertical-align: top;\n    }\n\n    .dataframe thead th {\n        text-align: right;\n    }\n</style>\n<table border=\"1\" class=\"dataframe\">\n  <thead>\n    <tr style=\"text-align: right;\">\n      <th></th>\n      <th>ticker</th>\n      <th>commodity</th>\n      <th>date</th>\n      <th>open</th>\n      <th>high</th>\n      <th>low</th>\n      <th>close</th>\n      <th>volume</th>\n    </tr>\n  </thead>\n  <tbody>\n    <tr>\n      <th>0</th>\n      <td>CL=F</td>\n      <td>Crude Oil</td>\n      <td>2000-08-23</td>\n      <td>31.950001</td>\n      <td>32.799999</td>\n      <td>31.950001</td>\n      <td>32.049999</td>\n      <td>79385</td>\n    </tr>\n    <tr>\n      <th>1</th>\n      <td>CL=F</td>\n      <td>Crude Oil</td>\n      <td>2000-08-24</td>\n      <td>31.900000</td>\n      <td>32.240002</td>\n      <td>31.400000</td>\n      <td>31.629999</td>\n      <td>72978</td>\n    </tr>\n    <tr>\n      <th>2</th>\n      <td>CL=F</td>\n      <td>Crude Oil</td>\n      <td>2000-08-25</td>\n      <td>31.700001</td>\n      <td>32.099998</td>\n      <td>31.320000</td>\n      <td>32.049999</td>\n      <td>44601</td>\n    </tr>\n    <tr>\n      <th>3</th>\n      <td>CL=F</td>\n      <td>Crude Oil</td>\n      <td>2000-08-28</td>\n      <td>32.040001</td>\n      <td>32.919998</td>\n      <td>31.860001</td>\n      <td>32.869999</td>\n      <td>46770</td>\n    </tr>\n    <tr>\n      <th>4</th>\n      <td>CL=F</td>\n      <td>Crude Oil</td>\n      <td>2000-08-29</td>\n      <td>32.820000</td>\n      <td>33.029999</td>\n      <td>32.560001</td>\n      <td>32.720001</td>\n      <td>49131</td>\n    </tr>\n    <tr>\n      <th>...</th>\n      <td>...</td>\n      <td>...</td>\n      <td>...</td>\n      <td>...</td>\n      <td>...</td>\n      <td>...</td>\n      <td>...</td>\n      <td>...</td>\n    </tr>\n    <tr>\n      <th>27150</th>\n      <td>BZ=F</td>\n      <td>Brent Crude Oil</td>\n      <td>2023-09-25</td>\n      <td>93.750000</td>\n      <td>94.250000</td>\n      <td>92.540001</td>\n      <td>93.290001</td>\n      <td>18626</td>\n    </tr>\n    <tr>\n      <th>27151</th>\n      <td>BZ=F</td>\n      <td>Brent Crude Oil</td>\n      <td>2023-09-26</td>\n      <td>93.260002</td>\n      <td>94.209999</td>\n      <td>91.800003</td>\n      <td>93.959999</td>\n      <td>18509</td>\n    </tr>\n    <tr>\n      <th>27152</th>\n      <td>BZ=F</td>\n      <td>Brent Crude Oil</td>\n      <td>2023-09-27</td>\n      <td>94.160004</td>\n      <td>97.040001</td>\n      <td>94.150002</td>\n      <td>96.550003</td>\n      <td>23665</td>\n    </tr>\n    <tr>\n      <th>27153</th>\n      <td>BZ=F</td>\n      <td>Brent Crude Oil</td>\n      <td>2023-09-28</td>\n      <td>96.620003</td>\n      <td>97.629997</td>\n      <td>94.750000</td>\n      <td>95.379997</td>\n      <td>9192</td>\n    </tr>\n    <tr>\n      <th>27154</th>\n      <td>BZ=F</td>\n      <td>Brent Crude Oil</td>\n      <td>2023-09-29</td>\n      <td>95.099998</td>\n      <td>96.239998</td>\n      <td>94.959999</td>\n      <td>95.309998</td>\n      <td>9192</td>\n    </tr>\n  </tbody>\n</table>\n<p>27155 rows × 8 columns</p>\n</div>"
     },
     "execution_count": 3,
     "metadata": {},
     "output_type": "execute_result"
    }
   ],
   "source": [
    "df"
   ],
   "metadata": {
    "collapsed": false,
    "ExecuteTime": {
     "end_time": "2023-09-30T06:59:39.201250800Z",
     "start_time": "2023-09-30T06:59:39.181328100Z"
    }
   },
   "id": "fe726a221bb2c460"
  },
  {
   "cell_type": "code",
   "execution_count": 4,
   "outputs": [
    {
     "data": {
      "text/plain": "array(['Crude Oil', 'Heating Oil', 'Natural Gas', 'RBOB Gasoline',\n       'Brent Crude Oil'], dtype=object)"
     },
     "execution_count": 4,
     "metadata": {},
     "output_type": "execute_result"
    }
   ],
   "source": [
    "df.commodity.unique()"
   ],
   "metadata": {
    "collapsed": false,
    "ExecuteTime": {
     "end_time": "2023-09-30T06:59:39.201250800Z",
     "start_time": "2023-09-30T06:59:39.198006500Z"
    }
   },
   "id": "af14d08c28358812"
  },
  {
   "cell_type": "code",
   "execution_count": 5,
   "outputs": [],
   "source": [
    "co= df[df['commodity'] == 'Crude Oil']\n",
    "ho = df[df['commodity'] == 'Heating Oil']\n",
    "ng = df[df['commodity'] == 'Natural Gas']\n",
    "rg = df[df['commodity'] == 'RBOB Gasoline']\n",
    "bco = df[df['commodity'] == 'Brent Crude Oil']"
   ],
   "metadata": {
    "collapsed": false,
    "ExecuteTime": {
     "end_time": "2023-09-30T06:59:39.212992300Z",
     "start_time": "2023-09-30T06:59:39.204196600Z"
    }
   },
   "id": "df9ea794ef0d3c63"
  },
  {
   "cell_type": "code",
   "execution_count": 6,
   "outputs": [
    {
     "data": {
      "text/plain": "<IPython.lib.display.IFrame at 0x2cf1c0afc50>",
      "text/html": "\n        <iframe\n            width=\"100%\"\n            height=\"650\"\n            src=\"http://127.0.0.1:8050/\"\n            frameborder=\"0\"\n            allowfullscreen\n            \n        ></iframe>\n        "
     },
     "metadata": {},
     "output_type": "display_data"
    }
   ],
   "source": [
    "app = Dash(__name__)\n",
    "\n",
    "app.layout = html.Div([\n",
    "    html.H1(\"Commodity Price Dashboard\"),\n",
    "    dcc.Dropdown(\n",
    "        id='commodity-dropdown',\n",
    "        options=[\n",
    "            {'label': 'Crude Oil', 'value': 'Crude Oil'},\n",
    "            {'label': 'Heating Oil', 'value': 'Heating Oil'},\n",
    "            {'label': 'Natural Gas', 'value': 'Natural Gas'},\n",
    "            {'label': 'RBOB Gasoline', 'value': 'RBOB Gasoline'},\n",
    "            {'label': 'Brent Crude Oil', 'value': 'Brent Crude Oil'},\n",
    "        ],\n",
    "        value='Crude Oil'\n",
    "    ),\n",
    "    dcc.Graph(id='price-graph'),\n",
    "])\n",
    "\n",
    "@app.callback(\n",
    "    Output('price-graph', 'figure'),\n",
    "    Input('commodity-dropdown', 'value')\n",
    ")\n",
    "def update_graph(selected_commodity):\n",
    "    filtered_df = df[df['commodity'] == selected_commodity]\n",
    "    fig = pt.line(filtered_df, x='date', y='close', title=f'{selected_commodity} Prices')\n",
    "    return fig\n",
    "\n",
    "app.run_server(debug=True)"
   ],
   "metadata": {
    "collapsed": false,
    "ExecuteTime": {
     "end_time": "2023-09-30T06:59:39.267534100Z",
     "start_time": "2023-09-30T06:59:39.212992300Z"
    }
   },
   "id": "d87a56c3f20bd69d"
  },
  {
   "cell_type": "code",
   "execution_count": 6,
   "outputs": [],
   "source": [],
   "metadata": {
    "collapsed": false,
    "ExecuteTime": {
     "end_time": "2023-09-30T06:59:39.267534100Z",
     "start_time": "2023-09-30T06:59:39.238742900Z"
    }
   },
   "id": "c6e36d6eaf450ab5"
  }
 ],
 "metadata": {
  "kernelspec": {
   "display_name": "Python 3",
   "language": "python",
   "name": "python3"
  },
  "language_info": {
   "codemirror_mode": {
    "name": "ipython",
    "version": 2
   },
   "file_extension": ".py",
   "mimetype": "text/x-python",
   "name": "python",
   "nbconvert_exporter": "python",
   "pygments_lexer": "ipython2",
   "version": "2.7.6"
  }
 },
 "nbformat": 4,
 "nbformat_minor": 5
}
