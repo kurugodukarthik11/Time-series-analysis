{
 "cells": [
  {
   "cell_type": "code",
   "execution_count": 1,
   "id": "initial_id",
   "metadata": {
    "collapsed": true,
    "ExecuteTime": {
     "end_time": "2023-09-30T12:16:46.531562700Z",
     "start_time": "2023-09-30T12:16:45.750764200Z"
    }
   },
   "outputs": [],
   "source": [
    "import numpy as np\n",
    "import pandas as pd\n",
    "import matplotlib.pyplot as plt\n",
    "import plotly.express as pt\n",
    "from dash import Dash, dcc, html, Input, Output\n",
    "\n",
    "import warnings\n",
    "warnings.filterwarnings('ignore')"
   ]
  },
  {
   "cell_type": "code",
   "execution_count": 2,
   "outputs": [],
   "source": [
    "df = pd.read_csv('all_fuels_data.csv')\n",
    "df['date'] = pd.to_datetime(df['date'])"
   ],
   "metadata": {
    "collapsed": false,
    "ExecuteTime": {
     "end_time": "2023-09-30T12:16:46.575298400Z",
     "start_time": "2023-09-30T12:16:46.535107400Z"
    }
   },
   "id": "48b0ba408965fc25"
  },
  {
   "cell_type": "code",
   "execution_count": 3,
   "outputs": [
    {
     "data": {
      "text/plain": "  ticker  commodity       date       open       high        low      close  \\\n0   CL=F  Crude Oil 2000-08-23  31.950001  32.799999  31.950001  32.049999   \n1   CL=F  Crude Oil 2000-08-24  31.900000  32.240002  31.400000  31.629999   \n2   CL=F  Crude Oil 2000-08-25  31.700001  32.099998  31.320000  32.049999   \n3   CL=F  Crude Oil 2000-08-28  32.040001  32.919998  31.860001  32.869999   \n4   CL=F  Crude Oil 2000-08-29  32.820000  33.029999  32.560001  32.720001   \n\n   volume  \n0   79385  \n1   72978  \n2   44601  \n3   46770  \n4   49131  ",
      "text/html": "<div>\n<style scoped>\n    .dataframe tbody tr th:only-of-type {\n        vertical-align: middle;\n    }\n\n    .dataframe tbody tr th {\n        vertical-align: top;\n    }\n\n    .dataframe thead th {\n        text-align: right;\n    }\n</style>\n<table border=\"1\" class=\"dataframe\">\n  <thead>\n    <tr style=\"text-align: right;\">\n      <th></th>\n      <th>ticker</th>\n      <th>commodity</th>\n      <th>date</th>\n      <th>open</th>\n      <th>high</th>\n      <th>low</th>\n      <th>close</th>\n      <th>volume</th>\n    </tr>\n  </thead>\n  <tbody>\n    <tr>\n      <th>0</th>\n      <td>CL=F</td>\n      <td>Crude Oil</td>\n      <td>2000-08-23</td>\n      <td>31.950001</td>\n      <td>32.799999</td>\n      <td>31.950001</td>\n      <td>32.049999</td>\n      <td>79385</td>\n    </tr>\n    <tr>\n      <th>1</th>\n      <td>CL=F</td>\n      <td>Crude Oil</td>\n      <td>2000-08-24</td>\n      <td>31.900000</td>\n      <td>32.240002</td>\n      <td>31.400000</td>\n      <td>31.629999</td>\n      <td>72978</td>\n    </tr>\n    <tr>\n      <th>2</th>\n      <td>CL=F</td>\n      <td>Crude Oil</td>\n      <td>2000-08-25</td>\n      <td>31.700001</td>\n      <td>32.099998</td>\n      <td>31.320000</td>\n      <td>32.049999</td>\n      <td>44601</td>\n    </tr>\n    <tr>\n      <th>3</th>\n      <td>CL=F</td>\n      <td>Crude Oil</td>\n      <td>2000-08-28</td>\n      <td>32.040001</td>\n      <td>32.919998</td>\n      <td>31.860001</td>\n      <td>32.869999</td>\n      <td>46770</td>\n    </tr>\n    <tr>\n      <th>4</th>\n      <td>CL=F</td>\n      <td>Crude Oil</td>\n      <td>2000-08-29</td>\n      <td>32.820000</td>\n      <td>33.029999</td>\n      <td>32.560001</td>\n      <td>32.720001</td>\n      <td>49131</td>\n    </tr>\n  </tbody>\n</table>\n</div>"
     },
     "execution_count": 3,
     "metadata": {},
     "output_type": "execute_result"
    }
   ],
   "source": [
    "df.head()"
   ],
   "metadata": {
    "collapsed": false,
    "ExecuteTime": {
     "end_time": "2023-09-30T12:16:46.591046100Z",
     "start_time": "2023-09-30T12:16:46.575298400Z"
    }
   },
   "id": "fe726a221bb2c460"
  },
  {
   "cell_type": "code",
   "execution_count": 4,
   "outputs": [
    {
     "data": {
      "text/plain": "                                date          open          high  \\\ncount                          27155  27155.000000  27155.000000   \nmean   2012-10-02 09:10:42.312649472     27.064888     27.454546   \nmin              2000-08-23 00:00:00    -14.000000      0.507000   \n25%              2007-06-30 12:00:00      2.008450      2.039750   \n50%              2012-12-06 00:00:00      3.425000      3.505500   \n75%              2018-05-08 00:00:00     53.599998     54.410000   \nmax              2023-09-29 00:00:00    146.080002    147.429993   \nstd                              NaN     35.976657     36.430093   \n\n                low         close        volume  \ncount  27155.000000  27155.000000  2.715500e+04  \nmean      26.651262     27.064125  1.055993e+05  \nmin      -40.320000    -37.630001  0.000000e+00  \n25%        1.976900      2.007700  2.611850e+04  \n50%        3.346000      3.428000  4.860800e+04  \n75%       52.719999     53.625000  1.129145e+05  \nmax      144.270004    146.080002  2.288230e+06  \nstd       35.491529     35.981681  1.493846e+05  ",
      "text/html": "<div>\n<style scoped>\n    .dataframe tbody tr th:only-of-type {\n        vertical-align: middle;\n    }\n\n    .dataframe tbody tr th {\n        vertical-align: top;\n    }\n\n    .dataframe thead th {\n        text-align: right;\n    }\n</style>\n<table border=\"1\" class=\"dataframe\">\n  <thead>\n    <tr style=\"text-align: right;\">\n      <th></th>\n      <th>date</th>\n      <th>open</th>\n      <th>high</th>\n      <th>low</th>\n      <th>close</th>\n      <th>volume</th>\n    </tr>\n  </thead>\n  <tbody>\n    <tr>\n      <th>count</th>\n      <td>27155</td>\n      <td>27155.000000</td>\n      <td>27155.000000</td>\n      <td>27155.000000</td>\n      <td>27155.000000</td>\n      <td>2.715500e+04</td>\n    </tr>\n    <tr>\n      <th>mean</th>\n      <td>2012-10-02 09:10:42.312649472</td>\n      <td>27.064888</td>\n      <td>27.454546</td>\n      <td>26.651262</td>\n      <td>27.064125</td>\n      <td>1.055993e+05</td>\n    </tr>\n    <tr>\n      <th>min</th>\n      <td>2000-08-23 00:00:00</td>\n      <td>-14.000000</td>\n      <td>0.507000</td>\n      <td>-40.320000</td>\n      <td>-37.630001</td>\n      <td>0.000000e+00</td>\n    </tr>\n    <tr>\n      <th>25%</th>\n      <td>2007-06-30 12:00:00</td>\n      <td>2.008450</td>\n      <td>2.039750</td>\n      <td>1.976900</td>\n      <td>2.007700</td>\n      <td>2.611850e+04</td>\n    </tr>\n    <tr>\n      <th>50%</th>\n      <td>2012-12-06 00:00:00</td>\n      <td>3.425000</td>\n      <td>3.505500</td>\n      <td>3.346000</td>\n      <td>3.428000</td>\n      <td>4.860800e+04</td>\n    </tr>\n    <tr>\n      <th>75%</th>\n      <td>2018-05-08 00:00:00</td>\n      <td>53.599998</td>\n      <td>54.410000</td>\n      <td>52.719999</td>\n      <td>53.625000</td>\n      <td>1.129145e+05</td>\n    </tr>\n    <tr>\n      <th>max</th>\n      <td>2023-09-29 00:00:00</td>\n      <td>146.080002</td>\n      <td>147.429993</td>\n      <td>144.270004</td>\n      <td>146.080002</td>\n      <td>2.288230e+06</td>\n    </tr>\n    <tr>\n      <th>std</th>\n      <td>NaN</td>\n      <td>35.976657</td>\n      <td>36.430093</td>\n      <td>35.491529</td>\n      <td>35.981681</td>\n      <td>1.493846e+05</td>\n    </tr>\n  </tbody>\n</table>\n</div>"
     },
     "execution_count": 4,
     "metadata": {},
     "output_type": "execute_result"
    }
   ],
   "source": [
    "df.describe()"
   ],
   "metadata": {
    "collapsed": false,
    "ExecuteTime": {
     "end_time": "2023-09-30T12:16:46.613410500Z",
     "start_time": "2023-09-30T12:16:46.586023700Z"
    }
   },
   "id": "4a785aa51531db9e"
  },
  {
   "cell_type": "code",
   "execution_count": 5,
   "outputs": [
    {
     "data": {
      "text/plain": "['Crude Oil', 'Heating Oil', 'Natural Gas', 'RBOB Gasoline', 'Brent Crude Oil']"
     },
     "execution_count": 5,
     "metadata": {},
     "output_type": "execute_result"
    }
   ],
   "source": [
    "df.commodity.unique().tolist()"
   ],
   "metadata": {
    "collapsed": false,
    "ExecuteTime": {
     "end_time": "2023-09-30T12:16:46.636000700Z",
     "start_time": "2023-09-30T12:16:46.604216500Z"
    }
   },
   "id": "af14d08c28358812"
  },
  {
   "cell_type": "code",
   "execution_count": 6,
   "outputs": [],
   "source": [
    "def trendline_plot(data, order=1):\n",
    "    coeffs = np.polyfit(data.index.values, list(data), order)\n",
    "    slope = coeffs[-2]\n",
    "    intercept = coeffs[-1]\n",
    "    return [slope * i + intercept for i in data.index.values]\n",
    "\n",
    "def seasonality_plot(data):\n",
    "    return data - trendline_plot(data)"
   ],
   "metadata": {
    "collapsed": false,
    "ExecuteTime": {
     "end_time": "2023-09-30T12:16:46.668048500Z",
     "start_time": "2023-09-30T12:16:46.613410500Z"
    }
   },
   "id": "df72f23c80d9f111"
  },
  {
   "cell_type": "code",
   "execution_count": 7,
   "outputs": [
    {
     "data": {
      "text/plain": "<IPython.lib.display.IFrame at 0x202d4bf5390>",
      "text/html": "\n        <iframe\n            width=\"100%\"\n            height=\"650\"\n            src=\"http://127.0.0.1:8050/\"\n            frameborder=\"0\"\n            allowfullscreen\n            \n        ></iframe>\n        "
     },
     "metadata": {},
     "output_type": "display_data"
    }
   ],
   "source": [
    "app = Dash(__name__)\n",
    "\n",
    "app.layout = html.Div([\n",
    "    html.H3(\"Commodity Price Dashboard\"),\n",
    "    dcc.Graph(id='time-series-graph'),\n",
    "    html.P(\"Select stock:\"),\n",
    "    dcc.Dropdown(\n",
    "        id='commodity-dropdown',\n",
    "        options=[\n",
    "            {'label': 'Crude Oil', 'value': 'Crude Oil'},\n",
    "            {'label': 'Heating Oil', 'value': 'Heating Oil'},\n",
    "            {'label': 'Natural Gas', 'value': 'Natural Gas'},\n",
    "            {'label': 'RBOB Gasoline', 'value': 'RBOB Gasoline'},\n",
    "            {'label': 'Brent Crude Oil', 'value': 'Brent Crude Oil'},\n",
    "        ],\n",
    "        value='Crude Oil'\n",
    "    ),\n",
    "])\n",
    "\n",
    "@app.callback(\n",
    "    Output('time-series-graph', 'figure'),\n",
    "    Input('commodity-dropdown', 'value')\n",
    ")\n",
    "def update_graph(selected_commodity):\n",
    "    filtered_df = df[df['commodity'] == selected_commodity]\n",
    "    fig = pt.line(filtered_df, x='date', y='close',color='commodity',title=f'Time series plot of {selected_commodity}')\n",
    "    fig.add_scatter(x=filtered_df['date'], y=trendline_plot(filtered_df['close'], order=1), mode='lines', name='trendline')\n",
    "    fig.add_scatter(x=filtered_df['date'], y=seasonality_plot(filtered_df['close']), mode='lines', name='seasonality')\n",
    "    fig.update_layout(showlegend=True)\n",
    "    return fig\n",
    "\n",
    "app.run_server(debug=True)"
   ],
   "metadata": {
    "collapsed": false,
    "ExecuteTime": {
     "end_time": "2023-09-30T12:16:46.921077600Z",
     "start_time": "2023-09-30T12:16:46.613410500Z"
    }
   },
   "id": "d87a56c3f20bd69d"
  },
  {
   "cell_type": "code",
   "execution_count": 7,
   "outputs": [],
   "source": [],
   "metadata": {
    "collapsed": false,
    "ExecuteTime": {
     "end_time": "2023-09-30T12:16:46.921077600Z",
     "start_time": "2023-09-30T12:16:46.645036Z"
    }
   },
   "id": "d53f209258d9a20f"
  }
 ],
 "metadata": {
  "kernelspec": {
   "display_name": "Python 3",
   "language": "python",
   "name": "python3"
  },
  "language_info": {
   "codemirror_mode": {
    "name": "ipython",
    "version": 2
   },
   "file_extension": ".py",
   "mimetype": "text/x-python",
   "name": "python",
   "nbconvert_exporter": "python",
   "pygments_lexer": "ipython2",
   "version": "2.7.6"
  }
 },
 "nbformat": 4,
 "nbformat_minor": 5
}
