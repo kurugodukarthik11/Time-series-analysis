{
 "cells": [
  {
   "cell_type": "code",
   "execution_count": 1,
   "id": "initial_id",
   "metadata": {
    "collapsed": true,
    "ExecuteTime": {
     "end_time": "2023-09-05T12:19:55.521993Z",
     "start_time": "2023-09-05T12:19:52.781062300Z"
    }
   },
   "outputs": [],
   "source": [
    "import numpy as np\n",
    "import pandas as pd\n",
    "import matplotlib.pyplot as plt"
   ]
  },
  {
   "cell_type": "code",
   "execution_count": 2,
   "outputs": [],
   "source": [
    "data = [2.7, 7.8, 6.2, 10.7, 9.6, 14.0, 13.2, 16.1, 17.9, 22.2, 23.7, 24.6, 24.6, 28.7, 28.6, 34.5, 34.1, 39.0,\n",
    "        38.7, 43.2, 42.3, 46.2, 46.3, 48.5, 49.8]"
   ],
   "metadata": {
    "collapsed": false,
    "ExecuteTime": {
     "end_time": "2023-09-05T12:19:55.974944200Z",
     "start_time": "2023-09-05T12:19:55.972808800Z"
    }
   },
   "id": "9f8c4f3860e654dc"
  },
  {
   "cell_type": "code",
   "execution_count": 6,
   "outputs": [],
   "source": [
    "y = np.matrix(data).reshape(len(data), 1)"
   ],
   "metadata": {
    "collapsed": false,
    "ExecuteTime": {
     "end_time": "2023-09-05T12:20:24.636530600Z",
     "start_time": "2023-09-05T12:20:24.627472600Z"
    }
   },
   "id": "ea4c4b59298edf31"
  },
  {
   "cell_type": "code",
   "execution_count": 9,
   "outputs": [
    {
     "data": {
      "text/plain": "(25, 1)"
     },
     "execution_count": 9,
     "metadata": {},
     "output_type": "execute_result"
    }
   ],
   "source": [
    "y.shape"
   ],
   "metadata": {
    "collapsed": false,
    "ExecuteTime": {
     "end_time": "2023-09-05T12:20:42.150363700Z",
     "start_time": "2023-09-05T12:20:42.137850Z"
    }
   },
   "id": "b903b1478d4f0aa7"
  },
  {
   "cell_type": "code",
   "execution_count": 16,
   "outputs": [
    {
     "data": {
      "text/plain": "matrix([[1.],\n        [1.],\n        [1.],\n        [1.],\n        [1.],\n        [1.],\n        [1.],\n        [1.],\n        [1.],\n        [1.],\n        [1.],\n        [1.],\n        [1.],\n        [1.],\n        [1.],\n        [1.],\n        [1.],\n        [1.],\n        [1.],\n        [1.],\n        [1.],\n        [1.],\n        [1.],\n        [1.],\n        [1.]])"
     },
     "execution_count": 16,
     "metadata": {},
     "output_type": "execute_result"
    }
   ],
   "source": [
    "a_0 = np.matrix(np.ones((len(data), 1)))\n",
    "a_0"
   ],
   "metadata": {
    "collapsed": false,
    "ExecuteTime": {
     "end_time": "2023-09-05T12:24:28.785947800Z",
     "start_time": "2023-09-05T12:24:28.778678400Z"
    }
   },
   "id": "5a366144d762cfe4"
  },
  {
   "cell_type": "code",
   "execution_count": 17,
   "outputs": [
    {
     "data": {
      "text/plain": "matrix([[ 1],\n        [ 2],\n        [ 3],\n        [ 4],\n        [ 5],\n        [ 6],\n        [ 7],\n        [ 8],\n        [ 9],\n        [10],\n        [11],\n        [12],\n        [13],\n        [14],\n        [15],\n        [16],\n        [17],\n        [18],\n        [19],\n        [20],\n        [21],\n        [22],\n        [23],\n        [24],\n        [25]])"
     },
     "execution_count": 17,
     "metadata": {},
     "output_type": "execute_result"
    }
   ],
   "source": [
    "a_1 = np.matrix(range(1, len(data) + 1)).reshape(len(data), 1)\n",
    "a_1"
   ],
   "metadata": {
    "collapsed": false,
    "ExecuteTime": {
     "end_time": "2023-09-05T12:24:53.051599300Z",
     "start_time": "2023-09-05T12:24:53.041913100Z"
    }
   },
   "id": "27725857d0546bd6"
  },
  {
   "cell_type": "code",
   "execution_count": 28,
   "outputs": [
    {
     "data": {
      "text/plain": "matrix([[-1.],\n        [ 1.],\n        [-1.],\n        [ 1.],\n        [-1.],\n        [ 1.],\n        [-1.],\n        [ 1.],\n        [-1.],\n        [ 1.],\n        [-1.],\n        [ 1.],\n        [-1.],\n        [ 1.],\n        [-1.],\n        [ 1.],\n        [-1.],\n        [ 1.],\n        [-1.],\n        [ 1.],\n        [-1.],\n        [ 1.],\n        [-1.],\n        [ 1.],\n        [-1.]])"
     },
     "execution_count": 28,
     "metadata": {},
     "output_type": "execute_result"
    }
   ],
   "source": [
    "b_1 = np.matrix([np.cos(np.pi * i) for i in range(1, len(data) + 1)]).reshape(len(data), 1)\n",
    "b_1"
   ],
   "metadata": {
    "collapsed": false,
    "ExecuteTime": {
     "end_time": "2023-09-05T12:28:17.130920900Z",
     "start_time": "2023-09-05T12:28:17.121845700Z"
    }
   },
   "id": "326b94b8e0f496d5"
  },
  {
   "cell_type": "code",
   "execution_count": 30,
   "outputs": [
    {
     "data": {
      "text/plain": "matrix([[ 1.22464680e-16],\n        [-2.44929360e-16],\n        [ 3.67394040e-16],\n        [-4.89858720e-16],\n        [ 6.12323400e-16],\n        [-7.34788079e-16],\n        [ 8.57252759e-16],\n        [-9.79717439e-16],\n        [ 1.10218212e-15],\n        [-1.22464680e-15],\n        [ 4.89982516e-15],\n        [-1.46957616e-15],\n        [-1.96067284e-15],\n        [-1.71450552e-15],\n        [ 5.38968388e-15],\n        [-1.95943488e-15],\n        [-1.47081412e-15],\n        [-2.20436424e-15],\n        [ 5.87954260e-15],\n        [-2.44929360e-15],\n        [-9.80955401e-16],\n        [-9.79965032e-15],\n        [ 6.36940132e-15],\n        [-2.93915232e-15],\n        [-4.91096681e-16]])"
     },
     "execution_count": 30,
     "metadata": {},
     "output_type": "execute_result"
    }
   ],
   "source": [
    "c_1 = np.matrix([np.sin(np.pi * i) for i in range(1, len(data) + 1)]).reshape(len(data), 1)\n",
    "c_1"
   ],
   "metadata": {
    "collapsed": false,
    "ExecuteTime": {
     "end_time": "2023-09-05T12:28:33.448468500Z",
     "start_time": "2023-09-05T12:28:33.441330900Z"
    }
   },
   "id": "68c5b58b36a5c6f9"
  },
  {
   "cell_type": "code",
   "execution_count": 31,
   "outputs": [
    {
     "data": {
      "text/plain": "matrix([[ 1.00000000e+00,  1.00000000e+00, -1.00000000e+00,\n          1.22464680e-16],\n        [ 1.00000000e+00,  2.00000000e+00,  1.00000000e+00,\n         -2.44929360e-16],\n        [ 1.00000000e+00,  3.00000000e+00, -1.00000000e+00,\n          3.67394040e-16],\n        [ 1.00000000e+00,  4.00000000e+00,  1.00000000e+00,\n         -4.89858720e-16],\n        [ 1.00000000e+00,  5.00000000e+00, -1.00000000e+00,\n          6.12323400e-16],\n        [ 1.00000000e+00,  6.00000000e+00,  1.00000000e+00,\n         -7.34788079e-16],\n        [ 1.00000000e+00,  7.00000000e+00, -1.00000000e+00,\n          8.57252759e-16],\n        [ 1.00000000e+00,  8.00000000e+00,  1.00000000e+00,\n         -9.79717439e-16],\n        [ 1.00000000e+00,  9.00000000e+00, -1.00000000e+00,\n          1.10218212e-15],\n        [ 1.00000000e+00,  1.00000000e+01,  1.00000000e+00,\n         -1.22464680e-15],\n        [ 1.00000000e+00,  1.10000000e+01, -1.00000000e+00,\n          4.89982516e-15],\n        [ 1.00000000e+00,  1.20000000e+01,  1.00000000e+00,\n         -1.46957616e-15],\n        [ 1.00000000e+00,  1.30000000e+01, -1.00000000e+00,\n         -1.96067284e-15],\n        [ 1.00000000e+00,  1.40000000e+01,  1.00000000e+00,\n         -1.71450552e-15],\n        [ 1.00000000e+00,  1.50000000e+01, -1.00000000e+00,\n          5.38968388e-15],\n        [ 1.00000000e+00,  1.60000000e+01,  1.00000000e+00,\n         -1.95943488e-15],\n        [ 1.00000000e+00,  1.70000000e+01, -1.00000000e+00,\n         -1.47081412e-15],\n        [ 1.00000000e+00,  1.80000000e+01,  1.00000000e+00,\n         -2.20436424e-15],\n        [ 1.00000000e+00,  1.90000000e+01, -1.00000000e+00,\n          5.87954260e-15],\n        [ 1.00000000e+00,  2.00000000e+01,  1.00000000e+00,\n         -2.44929360e-15],\n        [ 1.00000000e+00,  2.10000000e+01, -1.00000000e+00,\n         -9.80955401e-16],\n        [ 1.00000000e+00,  2.20000000e+01,  1.00000000e+00,\n         -9.79965032e-15],\n        [ 1.00000000e+00,  2.30000000e+01, -1.00000000e+00,\n          6.36940132e-15],\n        [ 1.00000000e+00,  2.40000000e+01,  1.00000000e+00,\n         -2.93915232e-15],\n        [ 1.00000000e+00,  2.50000000e+01, -1.00000000e+00,\n         -4.91096681e-16]])"
     },
     "execution_count": 31,
     "metadata": {},
     "output_type": "execute_result"
    }
   ],
   "source": [
    "X = np.hstack([a_0, a_1, b_1, c_1])"
   ],
   "metadata": {
    "collapsed": false,
    "ExecuteTime": {
     "end_time": "2023-09-05T12:28:58.909078300Z",
     "start_time": "2023-09-05T12:28:58.897701700Z"
    }
   },
   "id": "a9202ce65b907b76"
  },
  {
   "cell_type": "code",
   "execution_count": 32,
   "outputs": [
    {
     "data": {
      "text/plain": "(25, 4)"
     },
     "execution_count": 32,
     "metadata": {},
     "output_type": "execute_result"
    }
   ],
   "source": [
    "X.shape"
   ],
   "metadata": {
    "collapsed": false,
    "ExecuteTime": {
     "end_time": "2023-09-05T12:29:20.822766100Z",
     "start_time": "2023-09-05T12:29:20.814540800Z"
    }
   },
   "id": "e58f78898a5885f0"
  },
  {
   "cell_type": "code",
   "execution_count": 33,
   "outputs": [],
   "source": [
    "beta = (X.T * X).I * X.T * y"
   ],
   "metadata": {
    "collapsed": false,
    "ExecuteTime": {
     "end_time": "2023-09-05T12:31:09.425047900Z",
     "start_time": "2023-09-05T12:31:09.306052Z"
    }
   },
   "id": "9b346653362bca72"
  },
  {
   "cell_type": "code",
   "execution_count": 34,
   "outputs": [
    {
     "data": {
      "text/plain": "matrix([[1.12179618e+00],\n        [1.98922756e+00],\n        [1.08079412e+00],\n        [4.77140909e+13]])"
     },
     "execution_count": 34,
     "metadata": {},
     "output_type": "execute_result"
    }
   ],
   "source": [
    "beta"
   ],
   "metadata": {
    "collapsed": false,
    "ExecuteTime": {
     "end_time": "2023-09-05T12:31:11.344120900Z",
     "start_time": "2023-09-05T12:31:11.334859800Z"
    }
   },
   "id": "43533a0bf4ec44cb"
  },
  {
   "cell_type": "code",
   "execution_count": 35,
   "outputs": [
    {
     "data": {
      "text/plain": "matrix([[ 0.66392709],\n        [ 1.63064117],\n        [ 0.1737854 ],\n        [ 0.56387264],\n        [-0.4163563 ],\n        [-0.10289589],\n        [-0.80649799],\n        [-1.96966442],\n        [-0.09663969],\n        [ 0.16356705],\n        [ 1.54370411],\n        [-1.40320148],\n        [-1.20740857],\n        [-1.26997002],\n        [-1.53657928],\n        [ 0.56326145],\n        [ 0.31230804],\n        [ 1.09649292],\n        [ 0.58313733],\n        [ 1.32972439],\n        [ 0.53202465],\n        [ 0.70198486],\n        [ 0.20285394],\n        [-1.30381267],\n        [ 0.05174126]])"
     },
     "execution_count": 35,
     "metadata": {},
     "output_type": "execute_result"
    }
   ],
   "source": [
    "y - X* beta"
   ],
   "metadata": {
    "collapsed": false,
    "ExecuteTime": {
     "end_time": "2023-09-05T12:43:57.170274700Z",
     "start_time": "2023-09-05T12:43:57.162197600Z"
    }
   },
   "id": "dcfea27968372af1"
  },
  {
   "cell_type": "code",
   "execution_count": null,
   "outputs": [],
   "source": [],
   "metadata": {
    "collapsed": false
   },
   "id": "eb2ad6776f6eef5a"
  }
 ],
 "metadata": {
  "kernelspec": {
   "display_name": "Python 3",
   "language": "python",
   "name": "python3"
  },
  "language_info": {
   "codemirror_mode": {
    "name": "ipython",
    "version": 2
   },
   "file_extension": ".py",
   "mimetype": "text/x-python",
   "name": "python",
   "nbconvert_exporter": "python",
   "pygments_lexer": "ipython2",
   "version": "2.7.6"
  }
 },
 "nbformat": 4,
 "nbformat_minor": 5
}
