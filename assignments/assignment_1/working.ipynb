{
 "cells": [
  {
   "cell_type": "code",
   "execution_count": 1,
   "id": "initial_id",
   "metadata": {
    "collapsed": true,
    "ExecuteTime": {
     "end_time": "2023-09-05T13:39:46.798286Z",
     "start_time": "2023-09-05T13:39:45.196150Z"
    }
   },
   "outputs": [],
   "source": [
    "import numpy as np\n",
    "import pandas as pd\n",
    "import matplotlib.pyplot as plt"
   ]
  },
  {
   "cell_type": "code",
   "execution_count": 2,
   "outputs": [],
   "source": [
    "data = [2.7, 7.8, 6.2, 10.7, 9.6, 14.0, 13.2, 16.1, 17.9, 22.2, 23.7, 24.6, 24.6, 28.7, 28.6, 34.5, 34.1, 39.0,\n",
    "        38.7, 43.2, 42.3, 46.2, 46.3, 48.5, 49.8]"
   ],
   "metadata": {
    "collapsed": false,
    "ExecuteTime": {
     "end_time": "2023-09-05T13:39:46.809628Z",
     "start_time": "2023-09-05T13:39:46.797716Z"
    }
   },
   "id": "9f8c4f3860e654dc"
  },
  {
   "cell_type": "code",
   "execution_count": 3,
   "outputs": [],
   "source": [
    "y = np.matrix(data).reshape(len(data), 1)"
   ],
   "metadata": {
    "collapsed": false,
    "ExecuteTime": {
     "end_time": "2023-09-05T13:39:46.809944Z",
     "start_time": "2023-09-05T13:39:46.800484Z"
    }
   },
   "id": "ea4c4b59298edf31"
  },
  {
   "cell_type": "code",
   "execution_count": 4,
   "outputs": [
    {
     "data": {
      "text/plain": "(25, 1)"
     },
     "execution_count": 4,
     "metadata": {},
     "output_type": "execute_result"
    }
   ],
   "source": [
    "y.shape"
   ],
   "metadata": {
    "collapsed": false,
    "ExecuteTime": {
     "end_time": "2023-09-05T13:39:46.813536Z",
     "start_time": "2023-09-05T13:39:46.803964Z"
    }
   },
   "id": "b903b1478d4f0aa7"
  },
  {
   "cell_type": "code",
   "execution_count": 5,
   "outputs": [
    {
     "data": {
      "text/plain": "matrix([[1.],\n        [1.],\n        [1.],\n        [1.],\n        [1.],\n        [1.],\n        [1.],\n        [1.],\n        [1.],\n        [1.],\n        [1.],\n        [1.],\n        [1.],\n        [1.],\n        [1.],\n        [1.],\n        [1.],\n        [1.],\n        [1.],\n        [1.],\n        [1.],\n        [1.],\n        [1.],\n        [1.],\n        [1.]])"
     },
     "execution_count": 5,
     "metadata": {},
     "output_type": "execute_result"
    }
   ],
   "source": [
    "a_0 = np.matrix(np.ones((len(data), 1)))\n",
    "a_0"
   ],
   "metadata": {
    "collapsed": false,
    "ExecuteTime": {
     "end_time": "2023-09-05T13:39:48.116051Z",
     "start_time": "2023-09-05T13:39:48.109229Z"
    }
   },
   "id": "5a366144d762cfe4"
  },
  {
   "cell_type": "code",
   "execution_count": 6,
   "outputs": [
    {
     "data": {
      "text/plain": "matrix([[ 1],\n        [ 2],\n        [ 3],\n        [ 4],\n        [ 5],\n        [ 6],\n        [ 7],\n        [ 8],\n        [ 9],\n        [10],\n        [11],\n        [12],\n        [13],\n        [14],\n        [15],\n        [16],\n        [17],\n        [18],\n        [19],\n        [20],\n        [21],\n        [22],\n        [23],\n        [24],\n        [25]])"
     },
     "execution_count": 6,
     "metadata": {},
     "output_type": "execute_result"
    }
   ],
   "source": [
    "a_1 = np.matrix(range(1, len(data) + 1)).reshape(len(data), 1)\n",
    "a_1"
   ],
   "metadata": {
    "collapsed": false,
    "ExecuteTime": {
     "end_time": "2023-09-05T13:39:48.732241Z",
     "start_time": "2023-09-05T13:39:48.727576Z"
    }
   },
   "id": "27725857d0546bd6"
  },
  {
   "cell_type": "code",
   "execution_count": 7,
   "outputs": [
    {
     "data": {
      "text/plain": "matrix([[-1.],\n        [ 1.],\n        [-1.],\n        [ 1.],\n        [-1.],\n        [ 1.],\n        [-1.],\n        [ 1.],\n        [-1.],\n        [ 1.],\n        [-1.],\n        [ 1.],\n        [-1.],\n        [ 1.],\n        [-1.],\n        [ 1.],\n        [-1.],\n        [ 1.],\n        [-1.],\n        [ 1.],\n        [-1.],\n        [ 1.],\n        [-1.],\n        [ 1.],\n        [-1.]])"
     },
     "execution_count": 7,
     "metadata": {},
     "output_type": "execute_result"
    }
   ],
   "source": [
    "b_1 = np.matrix([np.cos(np.pi * i) for i in range(1, len(data) + 1)]).reshape(len(data), 1)\n",
    "b_1"
   ],
   "metadata": {
    "collapsed": false,
    "ExecuteTime": {
     "end_time": "2023-09-05T13:39:49.415982Z",
     "start_time": "2023-09-05T13:39:49.410072Z"
    }
   },
   "id": "326b94b8e0f496d5"
  },
  {
   "cell_type": "code",
   "execution_count": 8,
   "outputs": [
    {
     "data": {
      "text/plain": "matrix([[ 1.22464680e-16],\n        [-2.44929360e-16],\n        [ 3.67394040e-16],\n        [-4.89858720e-16],\n        [ 6.12323400e-16],\n        [-7.34788079e-16],\n        [ 8.57252759e-16],\n        [-9.79717439e-16],\n        [ 1.10218212e-15],\n        [-1.22464680e-15],\n        [ 4.89982516e-15],\n        [-1.46957616e-15],\n        [-1.96067284e-15],\n        [-1.71450552e-15],\n        [ 5.38968388e-15],\n        [-1.95943488e-15],\n        [-1.47081412e-15],\n        [-2.20436424e-15],\n        [ 5.87954260e-15],\n        [-2.44929360e-15],\n        [-9.80955401e-16],\n        [-9.79965032e-15],\n        [ 6.36940132e-15],\n        [-2.93915232e-15],\n        [-4.91096681e-16]])"
     },
     "execution_count": 8,
     "metadata": {},
     "output_type": "execute_result"
    }
   ],
   "source": [
    "c_1 = np.matrix([np.sin(np.pi * i) for i in range(1, len(data) + 1)]).reshape(len(data), 1)\n",
    "c_1"
   ],
   "metadata": {
    "collapsed": false,
    "ExecuteTime": {
     "end_time": "2023-09-05T13:39:50.075479Z",
     "start_time": "2023-09-05T13:39:50.071244Z"
    }
   },
   "id": "68c5b58b36a5c6f9"
  },
  {
   "cell_type": "code",
   "execution_count": 9,
   "outputs": [],
   "source": [
    "X = np.hstack([a_0, a_1, b_1, c_1])"
   ],
   "metadata": {
    "collapsed": false,
    "ExecuteTime": {
     "end_time": "2023-09-05T13:39:51.209456Z",
     "start_time": "2023-09-05T13:39:51.202882Z"
    }
   },
   "id": "a9202ce65b907b76"
  },
  {
   "cell_type": "code",
   "execution_count": 10,
   "outputs": [
    {
     "data": {
      "text/plain": "(25, 4)"
     },
     "execution_count": 10,
     "metadata": {},
     "output_type": "execute_result"
    }
   ],
   "source": [
    "X.shape"
   ],
   "metadata": {
    "collapsed": false,
    "ExecuteTime": {
     "end_time": "2023-09-05T13:39:51.871988Z",
     "start_time": "2023-09-05T13:39:51.867995Z"
    }
   },
   "id": "e58f78898a5885f0"
  },
  {
   "cell_type": "code",
   "execution_count": 11,
   "outputs": [],
   "source": [
    "beta = (X.T * X).I * X.T * y"
   ],
   "metadata": {
    "collapsed": false,
    "ExecuteTime": {
     "end_time": "2023-09-05T13:39:52.444329Z",
     "start_time": "2023-09-05T13:39:52.439163Z"
    }
   },
   "id": "9b346653362bca72"
  },
  {
   "cell_type": "code",
   "execution_count": 12,
   "outputs": [
    {
     "data": {
      "text/plain": "matrix([[1.12179618e+00],\n        [1.98922756e+00],\n        [1.08079412e+00],\n        [4.77140909e+13]])"
     },
     "execution_count": 12,
     "metadata": {},
     "output_type": "execute_result"
    }
   ],
   "source": [
    "beta"
   ],
   "metadata": {
    "collapsed": false,
    "ExecuteTime": {
     "end_time": "2023-09-05T13:39:53.370405Z",
     "start_time": "2023-09-05T13:39:53.363632Z"
    }
   },
   "id": "43533a0bf4ec44cb"
  },
  {
   "cell_type": "code",
   "execution_count": 13,
   "outputs": [
    {
     "data": {
      "text/plain": "<Figure size 1000x600 with 1 Axes>",
      "image/png": "[encoded data removed]"
     },
     "metadata": {},
     "output_type": "display_data"
    }
   ],
   "source": [
    "plt.figure(figsize=(10, 6))\n",
    "plt.scatter(range(1, len(data) + 1), data, color='black',label=\"Actual Data\")\n",
    "plt.plot(range(1, len(data) + 1), X * beta, color='red',label=\"Predicted Values\")\n",
    "plt.xlabel(\"t\")\n",
    "plt.ylabel(\"X_t\")\n",
    "plt.legend()\n",
    "plt.show()"
   ],
   "metadata": {
    "collapsed": false,
    "ExecuteTime": {
     "end_time": "2023-09-05T13:41:48.072058Z",
     "start_time": "2023-09-05T13:41:47.911558Z"
    }
   },
   "id": "eb2ad6776f6eef5a"
  },
  {
   "cell_type": "code",
   "execution_count": null,
   "outputs": [],
   "source": [],
   "metadata": {
    "collapsed": false
   },
   "id": "e6b37a3ba5ce15d5"
  }
 ],
 "metadata": {
  "kernelspec": {
   "display_name": "Python 3",
   "language": "python",
   "name": "python3"
  },
  "language_info": {
   "codemirror_mode": {
    "name": "ipython",
    "version": 2
   },
   "file_extension": ".py",
   "mimetype": "text/x-python",
   "name": "python",
   "nbconvert_exporter": "python",
   "pygments_lexer": "ipython2",
   "version": "2.7.6"
  }
 },
 "nbformat": 4,
 "nbformat_minor": 5
}
